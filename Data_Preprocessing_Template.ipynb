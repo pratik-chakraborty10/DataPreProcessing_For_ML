{
  "nbformat": 4,
  "nbformat_minor": 0,
  "metadata": {
    "colab": {
      "provenance": [],
      "include_colab_link": true
    },
    "kernelspec": {
      "name": "python3",
      "display_name": "Python 3"
    }
  },
  "cells": [
    {
      "cell_type": "markdown",
      "metadata": {
        "id": "view-in-github",
        "colab_type": "text"
      },
      "source": [
        "<a href=\"https://colab.research.google.com/github/pratik-chakraborty10/DataPreProcessing_For_ML/blob/main/Data_Preprocessing_Template.ipynb\" target=\"_parent\"><img src=\"https://colab.research.google.com/assets/colab-badge.svg\" alt=\"Open In Colab\"/></a>"
      ]
    },
    {
      "cell_type": "markdown",
      "metadata": {
        "id": "iIDXUkMElkDd"
      },
      "source": [
        "# Data Preprocessing"
      ]
    },
    {
      "cell_type": "code",
      "source": [],
      "metadata": {
        "id": "jO7_M30IHbKP"
      },
      "execution_count": 1,
      "outputs": []
    },
    {
      "cell_type": "markdown",
      "metadata": {
        "id": "Hj40LjUilpix"
      },
      "source": [
        "## Importing the libraries"
      ]
    },
    {
      "cell_type": "code",
      "source": [
        "import numpy as np\n",
        "import matplotlib.pyplot as plt\n",
        "import pandas as pd"
      ],
      "metadata": {
        "id": "6HeKlzLzLvR6"
      },
      "execution_count": 4,
      "outputs": []
    },
    {
      "cell_type": "markdown",
      "metadata": {
        "id": "zApSnwUkl9eD"
      },
      "source": [
        "## Importing Dataset"
      ]
    },
    {
      "cell_type": "code",
      "source": [
        "data_set = pd.read_csv('Covid_Data.csv')\n",
        "X = data_set.iloc[:, :-1].values #fetching all rows anc cols except need hospitaliazation\n",
        "y = data_set.iloc[:, -1].values # fetching all rows and the last col"
      ],
      "metadata": {
        "id": "3e5o4RtXLxlU"
      },
      "execution_count": 6,
      "outputs": []
    },
    {
      "cell_type": "code",
      "source": [
        "print(X) #all rows data except need hospitaliazation"
      ],
      "metadata": {
        "colab": {
          "base_uri": "https://localhost:8080/"
        },
        "id": "T_YqkWMNL1nI",
        "outputId": "16d11263-de1b-43e9-a614-67b19e0e9b56"
      },
      "execution_count": 7,
      "outputs": [
        {
          "output_type": "stream",
          "name": "stdout",
          "text": [
            "[[10.0 'Normal' 'no' 'no' 97.0]\n",
            " [12.0 'Normal' 'no' 'no' 97.0]\n",
            " [15.0 'Normal' 'no' 'no' 94.0]\n",
            " [10.0 'Normal' 'no' 'no' 97.0]\n",
            " [13.0 'Moderate' 'no' 'no' 94.0]\n",
            " [12.0 'Moderate' 'no' 'no' 97.0]\n",
            " [13.0 'Moderate' 'no' 'no' 93.0]\n",
            " [15.0 'Moderate' 'no' 'no' 92.0]\n",
            " [18.0 'Moderate' 'no' 'no' 66.0]\n",
            " [19.0 'Normal' 'no' 'no' 92.0]\n",
            " [20.0 'Normal' 'no' 'no' 93.0]\n",
            " [17.0 'Normal' 'no' 'no' 93.0]\n",
            " [16.0 'Normal' 'no' 'no' 92.0]\n",
            " [18.0 'Normal' 'no' 'no' 93.0]\n",
            " [20.0 'Normal' 'no' 'no' 92.0]\n",
            " [25.0 'Moderate' 'no' 'no' 93.0]\n",
            " [24.0 'Moderate' 'no' 'no' 92.0]\n",
            " [26.0 'High' 'no' 'no' 94.0]\n",
            " [28.0 'Normal' 'no' 'no' 99.0]\n",
            " [29.0 'Normal' 'no' 'no' 93.0]\n",
            " [30.0 'Moderate' 'no' 'no' 62.0]\n",
            " [19.0 'Normal' 'no' 'no' 89.0]\n",
            " [25.0 'Normal' 'no' 'yes' 86.0]\n",
            " [26.0 'Normal' 'no' 'no' nan]\n",
            " [28.0 'Normal' 'no' 'no' 89.0]\n",
            " [30.0 'Moderate' 'yes' 'no' 86.0]\n",
            " [35.0 'Moderate' 'no' 'no' 89.0]\n",
            " [32.0 'Moderate' 'no' 'yes' 84.0]\n",
            " [nan 'Moderate' 'yes' 'no' 90.0]\n",
            " [32.0 'Moderate' 'no' 'no' 89.0]\n",
            " [35.0 'Moderate' 'no' 'yes' 92.0]\n",
            " [38.0 'High' 'no' 'no' 75.0]\n",
            " [40.0 'Moderate' 'no' 'yes' 90.0]\n",
            " [46.0 'High' 'yes' 'no' 91.0]\n",
            " [48.0 'Moderate' 'no' 'yes' 93.0]\n",
            " [42.0 'High' 'no' 'no' 92.0]\n",
            " [40.0 'High' 'no' 'no' 92.0]\n",
            " [49.0 'Moderate' 'no' 'no' 80.0]\n",
            " [50.0 'High' 'yes' 'yes' 77.0]\n",
            " [36.0 'High' 'yes' 'no' 90.0]\n",
            " [52.0 'High' 'yes' 'yes' 80.0]\n",
            " [56.0 'High' 'yes' 'yes' 77.0]\n",
            " [58.0 'High' 'no' 'no' 70.0]\n",
            " [59.0 'High' 'no' 'yes' 69.0]\n",
            " [60.0 'High' 'yes' 'yes' 68.0]\n",
            " [53.0 'High' 'yes' 'no' 55.0]\n",
            " [54.0 'High' 'yes' 'yes' 70.0]\n",
            " [62.0 'High' 'yes' 'yes' 68.0]\n",
            " [63.0 'High' 'yes' 'yes' 66.0]\n",
            " [68.0 'High' 'yes' 'no' 67.0]\n",
            " [69.0 'High' 'no' 'yes' 53.0]\n",
            " [64.0 'High' 'yes' 'yes' 73.0]\n",
            " [61.0 'High' 'yes' 'yes' 76.0]\n",
            " [70.0 'Normal' 'no' 'yes' 88.0]\n",
            " [59.0 'High' 'yes' 'no' 68.0]\n",
            " [62.0 'High' 'yes' 'yes' 69.0]\n",
            " [78.0 'High' 'yes' 'yes' 71.0]\n",
            " [74.0 'High' 'yes' 'yes' 75.0]\n",
            " [75.0 'High' 'no' 'yes' 72.0]\n",
            " [56.0 'High' 'yes' 'no' 76.0]\n",
            " [80.0 'High' 'no' 'yes' 92.0]\n",
            " [82.0 'High' 'yes' 'yes' 73.0]\n",
            " [86.0 'High' 'yes' 'yes' 71.0]\n",
            " [90.0 'High' 'yes' 'yes' 67.0]\n",
            " [84.0 'High' 'yes' 'yes' 75.0]\n",
            " [86.0 'High' 'no' 'yes' 76.0]\n",
            " [61.0 'Moderate' 'no' 'yes' 90.0]\n",
            " [94.0 'High' 'yes' 'yes' 64.0]\n",
            " [81.0 'High' 'yes' 'yes' 75.0]\n",
            " [76.0 'High' 'yes' 'yes' 80.0]]\n"
          ]
        }
      ]
    },
    {
      "cell_type": "code",
      "source": [
        "print(y) #Hospitaliazation Data"
      ],
      "metadata": {
        "colab": {
          "base_uri": "https://localhost:8080/"
        },
        "id": "bP9MIl9TL5AD",
        "outputId": "cd696eaa-3ebf-42c3-fe93-08e77e913bfc"
      },
      "execution_count": 8,
      "outputs": [
        {
          "output_type": "stream",
          "name": "stdout",
          "text": [
            "['No' 'No' 'No' 'No' 'No' 'No' 'No' 'No' 'Yes' 'No' 'No' 'No' 'No' 'No'\n",
            " 'No' 'No' 'No' 'No' 'No' 'No' 'Yes' 'No' 'No' 'No' 'No' 'No' 'No' 'No'\n",
            " 'No' 'No' 'No' 'Yes' 'No' 'No' 'No' 'No' 'No' 'Yes' 'Yes' 'No' 'Yes'\n",
            " 'Yes' 'Yes' 'Yes' 'Yes' 'Yes' 'Yes' 'Yes' 'Yes' 'Yes' 'Yes' 'Yes' 'Yes'\n",
            " 'No' 'Yes' 'Yes' 'Yes' 'Yes' 'Yes' 'Yes' 'No' 'Yes' 'Yes' 'Yes' 'Yes'\n",
            " 'Yes' 'No' 'Yes' 'Yes' 'Yes']\n"
          ]
        }
      ]
    },
    {
      "cell_type": "markdown",
      "metadata": {
        "id": "XaG0s7WjmgPU"
      },
      "source": [
        "\n",
        "\n",
        "\n",
        "## Handling Missing Data"
      ]
    },
    {
      "cell_type": "code",
      "source": [
        "from sklearn.impute import SimpleImputer #The SimpleImputer class provides basic strategies for imputing missing values, such as replacing NaN entries with the mean, median, or most frequent value along each column.\n",
        "\n",
        "imputer=SimpleImputer(missing_values=np.nan,strategy=\"mean\") #Create an instance of SimpleImputer with the desired parameters:\n",
        "\n",
        "#Fit the imputer to the specified column(s) in your feature matrix X\n",
        "imputer.fit(X[:,0:1]) #fitting the missing value for X from 0 th index to 4th index.\n",
        "\n",
        "#Transform the missing values in the specified column(s) using the fitted imputer\n",
        "X[:,0:1]=imputer.transform(X[:,0:1])\n"
      ],
      "metadata": {
        "id": "82sdYGK4Mh9o"
      },
      "execution_count": 9,
      "outputs": []
    },
    {
      "cell_type": "code",
      "source": [
        "imputer.fit(X[:,4:5])\n",
        "X[:,4:5]=imputer.transform(X[:,4:5])\n"
      ],
      "metadata": {
        "id": "YDnpujmXQ10M"
      },
      "execution_count": 10,
      "outputs": []
    },
    {
      "cell_type": "code",
      "source": [
        "print(X)"
      ],
      "metadata": {
        "colab": {
          "base_uri": "https://localhost:8080/"
        },
        "id": "qSBatzZ5PU0Z",
        "outputId": "b06a6495-bbd1-4634-f2e1-5f94ce5d72f3"
      },
      "execution_count": 11,
      "outputs": [
        {
          "output_type": "stream",
          "name": "stdout",
          "text": [
            "[[10.0 'Normal' 'no' 'no' 97.0]\n",
            " [12.0 'Normal' 'no' 'no' 97.0]\n",
            " [15.0 'Normal' 'no' 'no' 94.0]\n",
            " [10.0 'Normal' 'no' 'no' 97.0]\n",
            " [13.0 'Moderate' 'no' 'no' 94.0]\n",
            " [12.0 'Moderate' 'no' 'no' 97.0]\n",
            " [13.0 'Moderate' 'no' 'no' 93.0]\n",
            " [15.0 'Moderate' 'no' 'no' 92.0]\n",
            " [18.0 'Moderate' 'no' 'no' 66.0]\n",
            " [19.0 'Normal' 'no' 'no' 92.0]\n",
            " [20.0 'Normal' 'no' 'no' 93.0]\n",
            " [17.0 'Normal' 'no' 'no' 93.0]\n",
            " [16.0 'Normal' 'no' 'no' 92.0]\n",
            " [18.0 'Normal' 'no' 'no' 93.0]\n",
            " [20.0 'Normal' 'no' 'no' 92.0]\n",
            " [25.0 'Moderate' 'no' 'no' 93.0]\n",
            " [24.0 'Moderate' 'no' 'no' 92.0]\n",
            " [26.0 'High' 'no' 'no' 94.0]\n",
            " [28.0 'Normal' 'no' 'no' 99.0]\n",
            " [29.0 'Normal' 'no' 'no' 93.0]\n",
            " [30.0 'Moderate' 'no' 'no' 62.0]\n",
            " [19.0 'Normal' 'no' 'no' 89.0]\n",
            " [25.0 'Normal' 'no' 'yes' 86.0]\n",
            " [26.0 'Normal' 'no' 'no' 82.07246376811594]\n",
            " [28.0 'Normal' 'no' 'no' 89.0]\n",
            " [30.0 'Moderate' 'yes' 'no' 86.0]\n",
            " [35.0 'Moderate' 'no' 'no' 89.0]\n",
            " [32.0 'Moderate' 'no' 'yes' 84.0]\n",
            " [45.130434782608695 'Moderate' 'yes' 'no' 90.0]\n",
            " [32.0 'Moderate' 'no' 'no' 89.0]\n",
            " [35.0 'Moderate' 'no' 'yes' 92.0]\n",
            " [38.0 'High' 'no' 'no' 75.0]\n",
            " [40.0 'Moderate' 'no' 'yes' 90.0]\n",
            " [46.0 'High' 'yes' 'no' 91.0]\n",
            " [48.0 'Moderate' 'no' 'yes' 93.0]\n",
            " [42.0 'High' 'no' 'no' 92.0]\n",
            " [40.0 'High' 'no' 'no' 92.0]\n",
            " [49.0 'Moderate' 'no' 'no' 80.0]\n",
            " [50.0 'High' 'yes' 'yes' 77.0]\n",
            " [36.0 'High' 'yes' 'no' 90.0]\n",
            " [52.0 'High' 'yes' 'yes' 80.0]\n",
            " [56.0 'High' 'yes' 'yes' 77.0]\n",
            " [58.0 'High' 'no' 'no' 70.0]\n",
            " [59.0 'High' 'no' 'yes' 69.0]\n",
            " [60.0 'High' 'yes' 'yes' 68.0]\n",
            " [53.0 'High' 'yes' 'no' 55.0]\n",
            " [54.0 'High' 'yes' 'yes' 70.0]\n",
            " [62.0 'High' 'yes' 'yes' 68.0]\n",
            " [63.0 'High' 'yes' 'yes' 66.0]\n",
            " [68.0 'High' 'yes' 'no' 67.0]\n",
            " [69.0 'High' 'no' 'yes' 53.0]\n",
            " [64.0 'High' 'yes' 'yes' 73.0]\n",
            " [61.0 'High' 'yes' 'yes' 76.0]\n",
            " [70.0 'Normal' 'no' 'yes' 88.0]\n",
            " [59.0 'High' 'yes' 'no' 68.0]\n",
            " [62.0 'High' 'yes' 'yes' 69.0]\n",
            " [78.0 'High' 'yes' 'yes' 71.0]\n",
            " [74.0 'High' 'yes' 'yes' 75.0]\n",
            " [75.0 'High' 'no' 'yes' 72.0]\n",
            " [56.0 'High' 'yes' 'no' 76.0]\n",
            " [80.0 'High' 'no' 'yes' 92.0]\n",
            " [82.0 'High' 'yes' 'yes' 73.0]\n",
            " [86.0 'High' 'yes' 'yes' 71.0]\n",
            " [90.0 'High' 'yes' 'yes' 67.0]\n",
            " [84.0 'High' 'yes' 'yes' 75.0]\n",
            " [86.0 'High' 'no' 'yes' 76.0]\n",
            " [61.0 'Moderate' 'no' 'yes' 90.0]\n",
            " [94.0 'High' 'yes' 'yes' 64.0]\n",
            " [81.0 'High' 'yes' 'yes' 75.0]\n",
            " [76.0 'High' 'yes' 'yes' 80.0]]\n"
          ]
        }
      ]
    },
    {
      "cell_type": "markdown",
      "metadata": {
        "id": "o0syRbsSmkoe"
      },
      "source": [
        "## Encoding Categorical Data"
      ]
    },
    {
      "cell_type": "markdown",
      "metadata": {
        "id": "alHfpomamsVr"
      },
      "source": [
        "### Encoding independent variables"
      ]
    },
    {
      "cell_type": "code",
      "source": [
        "#This class allows you to apply different transformations to different columns of your dataset. It's especially useful when you have both numerical and categorical features that require different preprocessing steps.\n",
        "from sklearn.compose import ColumnTransformer\n",
        "#This transformer is used for one-hot encoding categorical features. One-hot encoding converts categorical variables into a binary matrix where each category is represented as a binary vector.\n",
        "from sklearn.preprocessing import OneHotEncoder"
      ],
      "metadata": {
        "id": "674XAKJdCWNr"
      },
      "execution_count": 2,
      "outputs": []
    },
    {
      "cell_type": "code",
      "source": [
        "#Your ColumnTransformer configuration indicates that you want to apply OneHotEncoder to column 1 ([1]) of your dataset while leaving other columns unchanged (remainder='passthrough').\n",
        "ct=ColumnTransformer(transformers=[('encoder',OneHotEncoder(),[1])],remainder='passthrough')#remainder passthrough-># Leave other columns unchanged\n",
        "#fit_transform method of the ColumnTransformer object on your dataset X, and then converting the result into a NumPy array using np.array().\n",
        "X=np.array(ct.fit_transform(X))"
      ],
      "metadata": {
        "id": "pUCUklTLDen2"
      },
      "execution_count": 14,
      "outputs": []
    },
    {
      "cell_type": "code",
      "source": [
        "print(X)"
      ],
      "metadata": {
        "colab": {
          "base_uri": "https://localhost:8080/"
        },
        "id": "3H89BygBG7pQ",
        "outputId": "f1399d73-6e62-419e-a594-c561a2f349a8"
      },
      "execution_count": 15,
      "outputs": [
        {
          "output_type": "stream",
          "name": "stdout",
          "text": [
            "[[1.0 0.0 1.0 0.0 1.0 10.0 'no' 'no' 97.0]\n",
            " [1.0 0.0 1.0 0.0 1.0 12.0 'no' 'no' 97.0]\n",
            " [1.0 0.0 1.0 0.0 1.0 15.0 'no' 'no' 94.0]\n",
            " [1.0 0.0 1.0 0.0 1.0 10.0 'no' 'no' 97.0]\n",
            " [0.0 1.0 0.0 0.0 0.0 13.0 'no' 'no' 94.0]\n",
            " [0.0 1.0 0.0 0.0 0.0 12.0 'no' 'no' 97.0]\n",
            " [0.0 1.0 0.0 0.0 0.0 13.0 'no' 'no' 93.0]\n",
            " [0.0 1.0 0.0 0.0 0.0 15.0 'no' 'no' 92.0]\n",
            " [0.0 1.0 0.0 0.0 0.0 18.0 'no' 'no' 66.0]\n",
            " [1.0 0.0 1.0 0.0 1.0 19.0 'no' 'no' 92.0]\n",
            " [1.0 0.0 1.0 0.0 1.0 20.0 'no' 'no' 93.0]\n",
            " [1.0 0.0 1.0 0.0 1.0 17.0 'no' 'no' 93.0]\n",
            " [1.0 0.0 1.0 0.0 1.0 16.0 'no' 'no' 92.0]\n",
            " [1.0 0.0 1.0 0.0 1.0 18.0 'no' 'no' 93.0]\n",
            " [1.0 0.0 1.0 0.0 1.0 20.0 'no' 'no' 92.0]\n",
            " [0.0 1.0 0.0 0.0 0.0 25.0 'no' 'no' 93.0]\n",
            " [0.0 1.0 0.0 0.0 0.0 24.0 'no' 'no' 92.0]\n",
            " [1.0 0.0 1.0 1.0 0.0 26.0 'no' 'no' 94.0]\n",
            " [1.0 0.0 1.0 0.0 1.0 28.0 'no' 'no' 99.0]\n",
            " [1.0 0.0 1.0 0.0 1.0 29.0 'no' 'no' 93.0]\n",
            " [0.0 1.0 0.0 0.0 0.0 30.0 'no' 'no' 62.0]\n",
            " [1.0 0.0 1.0 0.0 1.0 19.0 'no' 'no' 89.0]\n",
            " [1.0 0.0 1.0 0.0 1.0 25.0 'no' 'yes' 86.0]\n",
            " [1.0 0.0 1.0 0.0 1.0 26.0 'no' 'no' 82.07246376811594]\n",
            " [1.0 0.0 1.0 0.0 1.0 28.0 'no' 'no' 89.0]\n",
            " [0.0 1.0 0.0 0.0 0.0 30.0 'yes' 'no' 86.0]\n",
            " [0.0 1.0 0.0 0.0 0.0 35.0 'no' 'no' 89.0]\n",
            " [0.0 1.0 0.0 0.0 0.0 32.0 'no' 'yes' 84.0]\n",
            " [0.0 1.0 0.0 0.0 0.0 45.130434782608695 'yes' 'no' 90.0]\n",
            " [0.0 1.0 0.0 0.0 0.0 32.0 'no' 'no' 89.0]\n",
            " [0.0 1.0 0.0 0.0 0.0 35.0 'no' 'yes' 92.0]\n",
            " [1.0 0.0 1.0 1.0 0.0 38.0 'no' 'no' 75.0]\n",
            " [0.0 1.0 0.0 0.0 0.0 40.0 'no' 'yes' 90.0]\n",
            " [1.0 0.0 1.0 1.0 0.0 46.0 'yes' 'no' 91.0]\n",
            " [0.0 1.0 0.0 0.0 0.0 48.0 'no' 'yes' 93.0]\n",
            " [1.0 0.0 1.0 1.0 0.0 42.0 'no' 'no' 92.0]\n",
            " [1.0 0.0 1.0 1.0 0.0 40.0 'no' 'no' 92.0]\n",
            " [0.0 1.0 0.0 0.0 0.0 49.0 'no' 'no' 80.0]\n",
            " [1.0 0.0 1.0 1.0 0.0 50.0 'yes' 'yes' 77.0]\n",
            " [1.0 0.0 1.0 1.0 0.0 36.0 'yes' 'no' 90.0]\n",
            " [1.0 0.0 1.0 1.0 0.0 52.0 'yes' 'yes' 80.0]\n",
            " [1.0 0.0 1.0 1.0 0.0 56.0 'yes' 'yes' 77.0]\n",
            " [1.0 0.0 1.0 1.0 0.0 58.0 'no' 'no' 70.0]\n",
            " [1.0 0.0 1.0 1.0 0.0 59.0 'no' 'yes' 69.0]\n",
            " [1.0 0.0 1.0 1.0 0.0 60.0 'yes' 'yes' 68.0]\n",
            " [1.0 0.0 1.0 1.0 0.0 53.0 'yes' 'no' 55.0]\n",
            " [1.0 0.0 1.0 1.0 0.0 54.0 'yes' 'yes' 70.0]\n",
            " [1.0 0.0 1.0 1.0 0.0 62.0 'yes' 'yes' 68.0]\n",
            " [1.0 0.0 1.0 1.0 0.0 63.0 'yes' 'yes' 66.0]\n",
            " [1.0 0.0 1.0 1.0 0.0 68.0 'yes' 'no' 67.0]\n",
            " [1.0 0.0 1.0 1.0 0.0 69.0 'no' 'yes' 53.0]\n",
            " [1.0 0.0 1.0 1.0 0.0 64.0 'yes' 'yes' 73.0]\n",
            " [1.0 0.0 1.0 1.0 0.0 61.0 'yes' 'yes' 76.0]\n",
            " [1.0 0.0 1.0 0.0 1.0 70.0 'no' 'yes' 88.0]\n",
            " [1.0 0.0 1.0 1.0 0.0 59.0 'yes' 'no' 68.0]\n",
            " [1.0 0.0 1.0 1.0 0.0 62.0 'yes' 'yes' 69.0]\n",
            " [1.0 0.0 1.0 1.0 0.0 78.0 'yes' 'yes' 71.0]\n",
            " [1.0 0.0 1.0 1.0 0.0 74.0 'yes' 'yes' 75.0]\n",
            " [1.0 0.0 1.0 1.0 0.0 75.0 'no' 'yes' 72.0]\n",
            " [1.0 0.0 1.0 1.0 0.0 56.0 'yes' 'no' 76.0]\n",
            " [1.0 0.0 1.0 1.0 0.0 80.0 'no' 'yes' 92.0]\n",
            " [1.0 0.0 1.0 1.0 0.0 82.0 'yes' 'yes' 73.0]\n",
            " [1.0 0.0 1.0 1.0 0.0 86.0 'yes' 'yes' 71.0]\n",
            " [1.0 0.0 1.0 1.0 0.0 90.0 'yes' 'yes' 67.0]\n",
            " [1.0 0.0 1.0 1.0 0.0 84.0 'yes' 'yes' 75.0]\n",
            " [1.0 0.0 1.0 1.0 0.0 86.0 'no' 'yes' 76.0]\n",
            " [0.0 1.0 0.0 0.0 0.0 61.0 'no' 'yes' 90.0]\n",
            " [1.0 0.0 1.0 1.0 0.0 94.0 'yes' 'yes' 64.0]\n",
            " [1.0 0.0 1.0 1.0 0.0 81.0 'yes' 'yes' 75.0]\n",
            " [1.0 0.0 1.0 1.0 0.0 76.0 'yes' 'yes' 80.0]]\n"
          ]
        }
      ]
    },
    {
      "cell_type": "markdown",
      "metadata": {
        "id": "VEJCi9Fgmz-n"
      },
      "source": [
        "### Encoding dependent variables"
      ]
    },
    {
      "cell_type": "code",
      "source": [
        "#to convert our predicted need hospitaliazation or not data into binary format we use label encoder\n",
        "from sklearn.preprocessing import LabelEncoder\n",
        "le=LabelEncoder()\n",
        "y=le.fit_transform(y)"
      ],
      "metadata": {
        "id": "-pbdlK0IJZEy"
      },
      "execution_count": 16,
      "outputs": []
    },
    {
      "cell_type": "code",
      "source": [
        "print(y)"
      ],
      "metadata": {
        "colab": {
          "base_uri": "https://localhost:8080/"
        },
        "id": "frZC4UmjKTyf",
        "outputId": "9d509b13-7a95-450c-b62c-b2970babc236"
      },
      "execution_count": 17,
      "outputs": [
        {
          "output_type": "stream",
          "name": "stdout",
          "text": [
            "[0 0 0 0 0 0 0 0 1 0 0 0 0 0 0 0 0 0 0 0 1 0 0 0 0 0 0 0 0 0 0 1 0 0 0 0 0\n",
            " 1 1 0 1 1 1 1 1 1 1 1 1 1 1 1 1 0 1 1 1 1 1 1 0 1 1 1 1 1 0 1 1 1]\n"
          ]
        }
      ]
    },
    {
      "cell_type": "markdown",
      "metadata": {
        "id": "Bfz9vcDsm7r6"
      },
      "source": [
        "## Splitting data into Test set & Training Set\n"
      ]
    },
    {
      "cell_type": "code",
      "source": [
        "# Split the dataset into training and testing sets\n",
        "# X is your feature matrix and y is your target variable\n",
        "# test_size=0.2 means 20% of the data will be used for testing, and the rest for training\n",
        "# random_state=42 ensures reproducibility of the split,meaning you'll get the same split if you run the code multiple times with the same dataset.\n",
        "from sklearn.model_selection import train_test_split\n",
        "X_train,X_test,y_train,y_test=train_test_split(X,y,test_size=0.2,random_state=42)"
      ],
      "metadata": {
        "id": "POg94fX8Lr4Z"
      },
      "execution_count": 25,
      "outputs": []
    },
    {
      "cell_type": "code",
      "source": [
        "print(X_train)"
      ],
      "metadata": {
        "colab": {
          "base_uri": "https://localhost:8080/"
        },
        "id": "hULr_XxcNiQB",
        "outputId": "99e1e922-3a8a-4410-fceb-9ab8a16cf291"
      },
      "execution_count": 26,
      "outputs": [
        {
          "output_type": "stream",
          "name": "stdout",
          "text": [
            "[[1.0 0.0 1.0 1.0 0.0 86.0 'yes' 'yes' 71.0]\n",
            " [0.0 1.0 0.0 0.0 0.0 35.0 'no' 'yes' 92.0]\n",
            " [1.0 0.0 1.0 1.0 0.0 75.0 'no' 'yes' 72.0]\n",
            " [1.0 0.0 1.0 1.0 0.0 42.0 'no' 'no' 92.0]\n",
            " [1.0 0.0 1.0 1.0 0.0 74.0 'yes' 'yes' 75.0]\n",
            " [1.0 0.0 1.0 1.0 0.0 62.0 'yes' 'yes' 68.0]\n",
            " [0.0 1.0 0.0 0.0 0.0 24.0 'no' 'no' 92.0]\n",
            " [0.0 1.0 0.0 0.0 0.0 48.0 'no' 'yes' 93.0]\n",
            " [1.0 0.0 1.0 1.0 0.0 58.0 'no' 'no' 70.0]\n",
            " [0.0 1.0 0.0 0.0 0.0 45.130434782608695 'yes' 'no' 90.0]\n",
            " [0.0 1.0 0.0 0.0 0.0 15.0 'no' 'no' 92.0]\n",
            " [1.0 0.0 1.0 0.0 1.0 70.0 'no' 'yes' 88.0]\n",
            " [1.0 0.0 1.0 1.0 0.0 52.0 'yes' 'yes' 80.0]\n",
            " [1.0 0.0 1.0 1.0 0.0 60.0 'yes' 'yes' 68.0]\n",
            " [1.0 0.0 1.0 1.0 0.0 54.0 'yes' 'yes' 70.0]\n",
            " [1.0 0.0 1.0 0.0 1.0 29.0 'no' 'no' 93.0]\n",
            " [1.0 0.0 1.0 1.0 0.0 78.0 'yes' 'yes' 71.0]\n",
            " [1.0 0.0 1.0 1.0 0.0 36.0 'yes' 'no' 90.0]\n",
            " [0.0 1.0 0.0 0.0 0.0 30.0 'yes' 'no' 86.0]\n",
            " [1.0 0.0 1.0 1.0 0.0 50.0 'yes' 'yes' 77.0]\n",
            " [1.0 0.0 1.0 0.0 1.0 18.0 'no' 'no' 93.0]\n",
            " [1.0 0.0 1.0 1.0 0.0 69.0 'no' 'yes' 53.0]\n",
            " [1.0 0.0 1.0 0.0 1.0 10.0 'no' 'no' 97.0]\n",
            " [1.0 0.0 1.0 1.0 0.0 26.0 'no' 'no' 94.0]\n",
            " [0.0 1.0 0.0 0.0 0.0 18.0 'no' 'no' 66.0]\n",
            " [1.0 0.0 1.0 1.0 0.0 62.0 'yes' 'yes' 69.0]\n",
            " [0.0 1.0 0.0 0.0 0.0 13.0 'no' 'no' 93.0]\n",
            " [1.0 0.0 1.0 1.0 0.0 40.0 'no' 'no' 92.0]\n",
            " [1.0 0.0 1.0 1.0 0.0 84.0 'yes' 'yes' 75.0]\n",
            " [1.0 0.0 1.0 1.0 0.0 76.0 'yes' 'yes' 80.0]\n",
            " [1.0 0.0 1.0 1.0 0.0 81.0 'yes' 'yes' 75.0]\n",
            " [0.0 1.0 0.0 0.0 0.0 25.0 'no' 'no' 93.0]\n",
            " [0.0 1.0 0.0 0.0 0.0 32.0 'no' 'yes' 84.0]\n",
            " [1.0 0.0 1.0 1.0 0.0 56.0 'yes' 'yes' 77.0]\n",
            " [0.0 1.0 0.0 0.0 0.0 35.0 'no' 'no' 89.0]\n",
            " [1.0 0.0 1.0 1.0 0.0 63.0 'yes' 'yes' 66.0]\n",
            " [1.0 0.0 1.0 0.0 1.0 28.0 'no' 'no' 89.0]\n",
            " [1.0 0.0 1.0 1.0 0.0 56.0 'yes' 'no' 76.0]\n",
            " [1.0 0.0 1.0 1.0 0.0 90.0 'yes' 'yes' 67.0]\n",
            " [1.0 0.0 1.0 0.0 1.0 17.0 'no' 'no' 93.0]\n",
            " [0.0 1.0 0.0 0.0 0.0 40.0 'no' 'yes' 90.0]\n",
            " [0.0 1.0 0.0 0.0 0.0 61.0 'no' 'yes' 90.0]\n",
            " [1.0 0.0 1.0 1.0 0.0 82.0 'yes' 'yes' 73.0]\n",
            " [0.0 1.0 0.0 0.0 0.0 49.0 'no' 'no' 80.0]\n",
            " [0.0 1.0 0.0 0.0 0.0 32.0 'no' 'no' 89.0]\n",
            " [1.0 0.0 1.0 1.0 0.0 59.0 'no' 'yes' 69.0]\n",
            " [1.0 0.0 1.0 1.0 0.0 86.0 'no' 'yes' 76.0]\n",
            " [1.0 0.0 1.0 0.0 1.0 12.0 'no' 'no' 97.0]\n",
            " [1.0 0.0 1.0 1.0 0.0 61.0 'yes' 'yes' 76.0]\n",
            " [1.0 0.0 1.0 0.0 1.0 19.0 'no' 'no' 89.0]\n",
            " [1.0 0.0 1.0 0.0 1.0 15.0 'no' 'no' 94.0]\n",
            " [1.0 0.0 1.0 0.0 1.0 26.0 'no' 'no' 82.07246376811594]\n",
            " [0.0 1.0 0.0 0.0 0.0 30.0 'no' 'no' 62.0]\n",
            " [1.0 0.0 1.0 1.0 0.0 80.0 'no' 'yes' 92.0]\n",
            " [1.0 0.0 1.0 0.0 1.0 20.0 'no' 'no' 92.0]\n",
            " [1.0 0.0 1.0 1.0 0.0 64.0 'yes' 'yes' 73.0]]\n"
          ]
        }
      ]
    },
    {
      "cell_type": "code",
      "source": [
        "print(X_test)"
      ],
      "metadata": {
        "colab": {
          "base_uri": "https://localhost:8080/"
        },
        "id": "is4ITx88NuLX",
        "outputId": "aa4df45a-bb57-4ad9-887f-0e26936e9147"
      },
      "execution_count": 27,
      "outputs": [
        {
          "output_type": "stream",
          "name": "stdout",
          "text": [
            "[[1.0 0.0 1.0 0.0 1.0 25.0 'no' 'yes' 86.0]\n",
            " [1.0 0.0 1.0 0.0 1.0 10.0 'no' 'no' 97.0]\n",
            " [1.0 0.0 1.0 1.0 0.0 68.0 'yes' 'no' 67.0]\n",
            " [0.0 1.0 0.0 0.0 0.0 13.0 'no' 'no' 94.0]\n",
            " [1.0 0.0 1.0 1.0 0.0 59.0 'yes' 'no' 68.0]\n",
            " [1.0 0.0 1.0 0.0 1.0 28.0 'no' 'no' 99.0]\n",
            " [1.0 0.0 1.0 0.0 1.0 20.0 'no' 'no' 93.0]\n",
            " [1.0 0.0 1.0 1.0 0.0 46.0 'yes' 'no' 91.0]\n",
            " [1.0 0.0 1.0 1.0 0.0 53.0 'yes' 'no' 55.0]\n",
            " [1.0 0.0 1.0 0.0 1.0 16.0 'no' 'no' 92.0]\n",
            " [1.0 0.0 1.0 1.0 0.0 38.0 'no' 'no' 75.0]\n",
            " [1.0 0.0 1.0 0.0 1.0 19.0 'no' 'no' 92.0]\n",
            " [1.0 0.0 1.0 1.0 0.0 94.0 'yes' 'yes' 64.0]\n",
            " [0.0 1.0 0.0 0.0 0.0 12.0 'no' 'no' 97.0]]\n"
          ]
        }
      ]
    },
    {
      "cell_type": "code",
      "source": [
        "print(y_train)"
      ],
      "metadata": {
        "colab": {
          "base_uri": "https://localhost:8080/"
        },
        "id": "2z0SVNudNz6D",
        "outputId": "383793f4-bc6e-4329-8020-389464178689"
      },
      "execution_count": 28,
      "outputs": [
        {
          "output_type": "stream",
          "name": "stdout",
          "text": [
            "[1 0 1 0 1 1 0 0 1 0 0 0 1 1 1 0 1 0 0 1 0 1 0 0 1 1 0 0 1 1 1 0 0 1 0 1 0\n",
            " 1 1 0 0 0 1 1 0 1 1 0 1 0 0 0 1 0 0 1]\n"
          ]
        }
      ]
    },
    {
      "cell_type": "code",
      "source": [
        "print(y_test)"
      ],
      "metadata": {
        "colab": {
          "base_uri": "https://localhost:8080/"
        },
        "id": "pql1C8ZCN2at",
        "outputId": "a2fefdd1-66f5-4684-ae08-22866dc5dafd"
      },
      "execution_count": 29,
      "outputs": [
        {
          "output_type": "stream",
          "name": "stdout",
          "text": [
            "[0 0 1 0 1 0 0 0 1 0 1 0 1 0]\n"
          ]
        }
      ]
    },
    {
      "cell_type": "markdown",
      "metadata": {
        "id": "a5uoHf8MsQG0"
      },
      "source": [
        "## Feature Scaling"
      ]
    },
    {
      "cell_type": "code",
      "source": [
        "#Feature scaling is a technique to standarize the independent features present in a data in a fixed range.It is perfomed during data preprocessing to handle highly varies magnitudes or units.\n",
        "\n",
        "\n",
        "#MINMAX Normalization feature scaling-----> min-max normalization is another common technique used for feature scaling in machine learning. It scales the features to a fixed range, typically between 0 and 1.\n",
        "#working-->1.For each feature, find the minimum and maximum values in the dataset.\n",
        "           #2.For each value in the feature, subtract the minimum value and divide by the range (maximum - minimum).\n",
        "\n",
        "#Here we feature scale the body O2 level percentage.\n",
        "from sklearn.preprocessing import StandardScaler\n",
        "sc = StandardScaler()\n",
        "X_train[:, 8:] = sc.fit_transform(X_train[:, 8:])\n",
        "X_test[:, 8:] = sc.fit_transform(X_test[:, 8:])\n"
      ],
      "metadata": {
        "id": "ka80Y9lqPbVO"
      },
      "execution_count": 41,
      "outputs": []
    },
    {
      "cell_type": "code",
      "source": [
        "print(X_train)"
      ],
      "metadata": {
        "colab": {
          "base_uri": "https://localhost:8080/"
        },
        "id": "K8o04z-VR8_E",
        "outputId": "dcb50557-579f-42cc-f873-46102b13d462"
      },
      "execution_count": 42,
      "outputs": [
        {
          "output_type": "stream",
          "name": "stdout",
          "text": [
            "[[1.0 0.0 1.0 1.0 0.0 86.0 'yes' 'yes' -0.9941858494300262]\n",
            " [0.0 1.0 0.0 0.0 0.0 35.0 'no' 'yes' 0.9574354145081888]\n",
            " [1.0 0.0 1.0 1.0 0.0 75.0 'no' 'yes' -0.9012515035282065]\n",
            " [1.0 0.0 1.0 1.0 0.0 42.0 'no' 'no' 0.9574354145081888]\n",
            " [1.0 0.0 1.0 1.0 0.0 74.0 'yes' 'yes' -0.6224484658227473]\n",
            " [1.0 0.0 1.0 1.0 0.0 62.0 'yes' 'yes' -1.2729888871354855]\n",
            " [0.0 1.0 0.0 0.0 0.0 24.0 'no' 'no' 0.9574354145081888]\n",
            " [0.0 1.0 0.0 0.0 0.0 48.0 'no' 'yes' 1.0503697604100086]\n",
            " [1.0 0.0 1.0 1.0 0.0 58.0 'no' 'no' -1.0871201953318461]\n",
            " [0.0 1.0 0.0 0.0 0.0 45.130434782608695 'yes' 'no' 0.7715667227045493]\n",
            " [0.0 1.0 0.0 0.0 0.0 15.0 'no' 'no' 0.9574354145081888]\n",
            " [1.0 0.0 1.0 0.0 1.0 70.0 'no' 'yes' 0.5856980309009098]\n",
            " [1.0 0.0 1.0 1.0 0.0 52.0 'yes' 'yes' -0.1577767363136484]\n",
            " [1.0 0.0 1.0 1.0 0.0 60.0 'yes' 'yes' -1.2729888871354855]\n",
            " [1.0 0.0 1.0 1.0 0.0 54.0 'yes' 'yes' -1.0871201953318461]\n",
            " [1.0 0.0 1.0 0.0 1.0 29.0 'no' 'no' 1.0503697604100086]\n",
            " [1.0 0.0 1.0 1.0 0.0 78.0 'yes' 'yes' -0.9941858494300262]\n",
            " [1.0 0.0 1.0 1.0 0.0 36.0 'yes' 'no' 0.7715667227045493]\n",
            " [0.0 1.0 0.0 0.0 0.0 30.0 'yes' 'no' 0.3998293390972702]\n",
            " [1.0 0.0 1.0 1.0 0.0 50.0 'yes' 'yes' -0.4365797740191077]\n",
            " [1.0 0.0 1.0 0.0 1.0 18.0 'no' 'no' 1.0503697604100086]\n",
            " [1.0 0.0 1.0 1.0 0.0 69.0 'no' 'yes' -2.667004075662782]\n",
            " [1.0 0.0 1.0 0.0 1.0 10.0 'no' 'no' 1.4221071440172877]\n",
            " [1.0 0.0 1.0 1.0 0.0 26.0 'no' 'no' 1.1433041063118283]\n",
            " [0.0 1.0 0.0 0.0 0.0 18.0 'no' 'no' -1.4588575789391252]\n",
            " [1.0 0.0 1.0 1.0 0.0 62.0 'yes' 'yes' -1.1800545412336658]\n",
            " [0.0 1.0 0.0 0.0 0.0 13.0 'no' 'no' 1.0503697604100086]\n",
            " [1.0 0.0 1.0 1.0 0.0 40.0 'no' 'no' 0.9574354145081888]\n",
            " [1.0 0.0 1.0 1.0 0.0 84.0 'yes' 'yes' -0.6224484658227473]\n",
            " [1.0 0.0 1.0 1.0 0.0 76.0 'yes' 'yes' -0.1577767363136484]\n",
            " [1.0 0.0 1.0 1.0 0.0 81.0 'yes' 'yes' -0.6224484658227473]\n",
            " [0.0 1.0 0.0 0.0 0.0 25.0 'no' 'no' 1.0503697604100086]\n",
            " [0.0 1.0 0.0 0.0 0.0 32.0 'no' 'yes' 0.21396064729363065]\n",
            " [1.0 0.0 1.0 1.0 0.0 56.0 'yes' 'yes' -0.4365797740191077]\n",
            " [0.0 1.0 0.0 0.0 0.0 35.0 'no' 'no' 0.6786323768027296]\n",
            " [1.0 0.0 1.0 1.0 0.0 63.0 'yes' 'yes' -1.4588575789391252]\n",
            " [1.0 0.0 1.0 0.0 1.0 28.0 'no' 'no' 0.6786323768027296]\n",
            " [1.0 0.0 1.0 1.0 0.0 56.0 'yes' 'no' -0.5295141199209275]\n",
            " [1.0 0.0 1.0 1.0 0.0 90.0 'yes' 'yes' -1.3659232330373055]\n",
            " [1.0 0.0 1.0 0.0 1.0 17.0 'no' 'no' 1.0503697604100086]\n",
            " [0.0 1.0 0.0 0.0 0.0 40.0 'no' 'yes' 0.7715667227045493]\n",
            " [0.0 1.0 0.0 0.0 0.0 61.0 'no' 'yes' 0.7715667227045493]\n",
            " [1.0 0.0 1.0 1.0 0.0 82.0 'yes' 'yes' -0.8083171576263868]\n",
            " [0.0 1.0 0.0 0.0 0.0 49.0 'no' 'no' -0.1577767363136484]\n",
            " [0.0 1.0 0.0 0.0 0.0 32.0 'no' 'no' 0.6786323768027296]\n",
            " [1.0 0.0 1.0 1.0 0.0 59.0 'no' 'yes' -1.1800545412336658]\n",
            " [1.0 0.0 1.0 1.0 0.0 86.0 'no' 'yes' -0.5295141199209275]\n",
            " [1.0 0.0 1.0 0.0 1.0 12.0 'no' 'no' 1.4221071440172877]\n",
            " [1.0 0.0 1.0 1.0 0.0 61.0 'yes' 'yes' -0.5295141199209275]\n",
            " [1.0 0.0 1.0 0.0 1.0 19.0 'no' 'no' 0.6786323768027296]\n",
            " [1.0 0.0 1.0 0.0 1.0 15.0 'no' 'no' 1.1433041063118283]\n",
            " [1.0 0.0 1.0 0.0 1.0 26.0 'no' 'no' 0.034826328381426956]\n",
            " [0.0 1.0 0.0 0.0 0.0 30.0 'no' 'no' -1.8305949625464042]\n",
            " [1.0 0.0 1.0 1.0 0.0 80.0 'no' 'yes' 0.9574354145081888]\n",
            " [1.0 0.0 1.0 0.0 1.0 20.0 'no' 'no' 0.9574354145081888]\n",
            " [1.0 0.0 1.0 1.0 0.0 64.0 'yes' 'yes' -0.8083171576263868]]\n"
          ]
        }
      ]
    }
  ]
}